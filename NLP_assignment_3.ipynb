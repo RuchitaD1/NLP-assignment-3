{
  "nbformat": 4,
  "nbformat_minor": 0,
  "metadata": {
    "colab": {
      "name": "NLP assignment 3",
      "provenance": [],
      "include_colab_link": true
    },
    "kernelspec": {
      "name": "python3",
      "display_name": "Python 3"
    }
  },
  "cells": [
    {
      "cell_type": "markdown",
      "metadata": {
        "id": "view-in-github",
        "colab_type": "text"
      },
      "source": [
        "<a href=\"https://colab.research.google.com/github/RuchitaD1/NLP-assignment-3/blob/master/NLP_assignment_3.ipynb\" target=\"_parent\"><img src=\"https://colab.research.google.com/assets/colab-badge.svg\" alt=\"Open In Colab\"/></a>"
      ]
    },
    {
      "cell_type": "code",
      "metadata": {
        "id": "lcZQFcWxr0j1",
        "colab_type": "code",
        "outputId": "ec021902-70db-4a43-862a-400062e74d70",
        "colab": {
          "base_uri": "https://localhost:8080/",
          "height": 86
        }
      },
      "source": [
        "import nltk\n",
        "nltk.download('brown')\n",
        "nltk.download('universal_tagset')\n",
        "from nltk.corpus import brown"
      ],
      "execution_count": 0,
      "outputs": [
        {
          "output_type": "stream",
          "text": [
            "[nltk_data] Downloading package brown to /root/nltk_data...\n",
            "[nltk_data]   Unzipping corpora/brown.zip.\n",
            "[nltk_data] Downloading package universal_tagset to /root/nltk_data...\n",
            "[nltk_data]   Unzipping taggers/universal_tagset.zip.\n"
          ],
          "name": "stdout"
        }
      ]
    },
    {
      "cell_type": "code",
      "metadata": {
        "id": "Z2SeKNU-sDYK",
        "colab_type": "code",
        "colab": {}
      },
      "source": [
        "brown_sentences = brown.tagged_sents(tagset='universal')"
      ],
      "execution_count": 0,
      "outputs": []
    },
    {
      "cell_type": "code",
      "metadata": {
        "id": "322Dcbi-sQaK",
        "colab_type": "code",
        "colab": {}
      },
      "source": [
        "train_sentences = []\n",
        "train_tags = []\n",
        "vocabulary = {}"
      ],
      "execution_count": 0,
      "outputs": []
    },
    {
      "cell_type": "code",
      "metadata": {
        "id": "hlKkOU1bspLd",
        "colab_type": "code",
        "colab": {}
      },
      "source": [
        "for sentence in brown_sentences:\n",
        "  words = []\n",
        "  tags = []\n",
        "  for t in sentence:\n",
        "    if t[0] in vocabulary:\n",
        "      vocabulary[t[0]] += 1\n",
        "    else:\n",
        "      vocabulary[t[0]] = 1\n",
        "    words.append(t[0])\n",
        "    tags.append(t[1])\n",
        "  train_sentences.append(words)\n",
        "  train_tags.append(tags)"
      ],
      "execution_count": 0,
      "outputs": []
    },
    {
      "cell_type": "code",
      "metadata": {
        "id": "Q2KlEvKSyyIx",
        "colab_type": "code",
        "outputId": "658ce1a6-d939-4106-c972-01c8fd29b7ff",
        "colab": {
          "base_uri": "https://localhost:8080/",
          "height": 451
        }
      },
      "source": [
        "train_tags[0]"
      ],
      "execution_count": 0,
      "outputs": [
        {
          "output_type": "execute_result",
          "data": {
            "text/plain": [
              "['DET',\n",
              " 'NOUN',\n",
              " 'NOUN',\n",
              " 'ADJ',\n",
              " 'NOUN',\n",
              " 'VERB',\n",
              " 'NOUN',\n",
              " 'DET',\n",
              " 'NOUN',\n",
              " 'ADP',\n",
              " 'NOUN',\n",
              " 'ADJ',\n",
              " 'NOUN',\n",
              " 'NOUN',\n",
              " 'VERB',\n",
              " '.',\n",
              " 'DET',\n",
              " 'NOUN',\n",
              " '.',\n",
              " 'ADP',\n",
              " 'DET',\n",
              " 'NOUN',\n",
              " 'VERB',\n",
              " 'NOUN',\n",
              " '.']"
            ]
          },
          "metadata": {
            "tags": []
          },
          "execution_count": 23
        }
      ]
    },
    {
      "cell_type": "code",
      "metadata": {
        "id": "vopH5grqzSq6",
        "colab_type": "code",
        "colab": {}
      },
      "source": [
        "for word in vocabulary:\n",
        "  if vocabulary[word] <5:\n",
        "    rare_words.append(word)"
      ],
      "execution_count": 0,
      "outputs": []
    },
    {
      "cell_type": "code",
      "metadata": {
        "id": "vtfoe8jGzmAB",
        "colab_type": "code",
        "colab": {}
      },
      "source": [
        "def word_ngram_features(i, words):\n",
        "  \n",
        "  if i-1 >= 0:\n",
        "    wim1 = words[i-1]\n",
        "  else:\n",
        "    wim1 = \"<s>\"\n",
        "  if i-2 >= 0:\n",
        "    wim2 =  words[i-2]\n",
        "  else:\n",
        "    wim2 = \"<s>\"\n",
        "  if i+1 < len(words):\n",
        "    wip1 = words[i+1]\n",
        "  else:\n",
        "    wip1 = \"</s>\"\n",
        "  if i+2 < len(words):\n",
        "    wip2 = words[i+2]\n",
        "  else:\n",
        "    wip2 = \"</s>\"\n",
        "  return [\"prevbigram-\"+wim1, \"nextbigram-\"+wip1, \"prevskip-\"+wim2, \\\n",
        "          \"nextskip-\"+wip2, \"prevtrigram-\"+wim1+\"-\"+wim2, \\\n",
        "          \"nexttrigram-\"+wip1+\"-\"+wip2, \"centertrigram-\"+wim1+\"-\"+wip1]\n",
        "  "
      ],
      "execution_count": 0,
      "outputs": []
    },
    {
      "cell_type": "code",
      "metadata": {
        "id": "7hq4EqC51k09",
        "colab_type": "code",
        "colab": {}
      },
      "source": [
        "def word_features(word, rare_words):\n",
        "  word_flag = 0\n",
        "  capital_flag = 0\n",
        "  number_flag = 0\n",
        "  hypen_flag = 0\n",
        "  feat_list = []\n",
        "  if word not in rare_words:\n",
        "    feat_list.append(\"word-\"+word)\n",
        "  if word[0].isupper():\n",
        "    feat_list.append(\"capital\")\n",
        "  if any(ch.isdigit() for ch in word):\n",
        "    feat_list.append(\"number\")\n",
        "  if any(ch == \"-\" for ch in word):\n",
        "    feat_list.append(\"hyphen\")\n",
        "    \n",
        "  for j in range(1,5):\n",
        "    if len(word)>=j:\n",
        "      feat_list.append(\"prefix\"+str(j)+\"-\"+word[:j])\n",
        "      \n",
        "  for j in range(1,5):\n",
        "    if len(word)>=j:\n",
        "      feat_list.append(\"suffix\"+str(j)+\"-\"+word[-j:]) \n",
        "  return feat_list"
      ],
      "execution_count": 0,
      "outputs": []
    },
    {
      "cell_type": "code",
      "metadata": {
        "id": "vFsDmAhw5pt-",
        "colab_type": "code",
        "colab": {}
      },
      "source": [
        ""
      ],
      "execution_count": 0,
      "outputs": []
    },
    {
      "cell_type": "code",
      "metadata": {
        "id": "vdiHY5O0-UiP",
        "colab_type": "code",
        "colab": {}
      },
      "source": [
        "def get_features(i, words, prevtag, rare_words):\n",
        "  feat_list1 = word_ngram_features(i, words)\n",
        "  feat_list2 = word_features(words[i], rare_words)\n",
        "  feature_list = []\n",
        "  feature_list.append(\"tagbigram-\"+prevtag.lower())\n",
        "  for feat in feat_list1:\n",
        "    feature_list.append(feat.lower())\n",
        "  for feat in feat_list2:\n",
        "    feature_list.append(feat.lower())\n",
        "  return feature_list"
      ],
      "execution_count": 0,
      "outputs": []
    },
    {
      "cell_type": "code",
      "metadata": {
        "id": "ztYDa4OmDBbo",
        "colab_type": "code",
        "colab": {}
      },
      "source": [
        "# main\n",
        "\n",
        "train_features = []\n",
        "i = 0\n",
        "j = 0\n",
        "for sentence in train_sentences:\n",
        "  temp = []\n",
        "  for i in range(len(sentence)):\n",
        "    if i!=0:\n",
        "      prevtag = train_tags[j][i-1]\n",
        "    else:\n",
        "      prevtag = \"<S>\"\n",
        "    features = get_features(i, sentence, prevtag, rare_words)\n",
        "    temp.append(features)\n",
        "  j+=1\n",
        "  train_features.append(temp)"
      ],
      "execution_count": 0,
      "outputs": []
    },
    {
      "cell_type": "code",
      "metadata": {
        "id": "I-e6FCu2CZk-",
        "colab_type": "code",
        "colab": {}
      },
      "source": [
        "def remove_rare_features(features, n):\n",
        "  feat_dict = {}\n",
        "  for l_l_features in features:\n",
        "    for l_features in l_l_features:\n",
        "      for feat in l_features:\n",
        "        if feat in feat_dict:\n",
        "          feat_dict[feat] += 1\n",
        "        else:\n",
        "          feat_dict[feat] = 1\n",
        "          \n",
        "  rare_feats = []\n",
        "  non_rare_feats = []\n",
        "  for feat in feat_dict:\n",
        "    if feat_dict[feat]>n:\n",
        "      non_rare_feats.append(feat)\n",
        "    else:\n",
        "      rare_feats.append(feat)\n",
        "      \n",
        "  rare_feats = set(rare_feats)\n",
        "  non_rare_feats = set(non_rare_feats)\n",
        "  \n",
        "  \n",
        "        "
      ],
      "execution_count": 0,
      "outputs": []
    },
    {
      "cell_type": "code",
      "metadata": {
        "id": "VB9B53DmJ2Tu",
        "colab_type": "code",
        "colab": {}
      },
      "source": [
        "remove_rare_features(train_features, 5)"
      ],
      "execution_count": 0,
      "outputs": []
    },
    {
      "cell_type": "code",
      "metadata": {
        "id": "XNUHqtVnR4JN",
        "colab_type": "code",
        "colab": {}
      },
      "source": [
        ""
      ],
      "execution_count": 0,
      "outputs": []
    }
  ]
}